{
 "cells": [
  {
   "cell_type": "code",
   "execution_count": 6,
   "id": "1b245df3",
   "metadata": {},
   "outputs": [
    {
     "name": "stdout",
     "output_type": "stream",
     "text": [
      "Requirement already satisfied: mlxtend in c:\\users\\kabura\\anaconda3\\lib\\site-packages (0.23.4)\n",
      "Requirement already satisfied: scipy>=1.2.1 in c:\\users\\kabura\\anaconda3\\lib\\site-packages (from mlxtend) (1.15.3)\n",
      "Requirement already satisfied: numpy>=1.16.2 in c:\\users\\kabura\\anaconda3\\lib\\site-packages (from mlxtend) (2.1.3)\n",
      "Requirement already satisfied: pandas>=0.24.2 in c:\\users\\kabura\\anaconda3\\lib\\site-packages (from mlxtend) (2.2.3)\n",
      "Requirement already satisfied: scikit-learn>=1.3.1 in c:\\users\\kabura\\anaconda3\\lib\\site-packages (from mlxtend) (1.6.1)\n",
      "Requirement already satisfied: matplotlib>=3.0.0 in c:\\users\\kabura\\anaconda3\\lib\\site-packages (from mlxtend) (3.10.0)\n",
      "Requirement already satisfied: joblib>=0.13.2 in c:\\users\\kabura\\anaconda3\\lib\\site-packages (from mlxtend) (1.4.2)\n",
      "Requirement already satisfied: contourpy>=1.0.1 in c:\\users\\kabura\\anaconda3\\lib\\site-packages (from matplotlib>=3.0.0->mlxtend) (1.3.1)\n",
      "Requirement already satisfied: cycler>=0.10 in c:\\users\\kabura\\anaconda3\\lib\\site-packages (from matplotlib>=3.0.0->mlxtend) (0.11.0)\n",
      "Requirement already satisfied: fonttools>=4.22.0 in c:\\users\\kabura\\anaconda3\\lib\\site-packages (from matplotlib>=3.0.0->mlxtend) (4.55.3)\n",
      "Requirement already satisfied: kiwisolver>=1.3.1 in c:\\users\\kabura\\anaconda3\\lib\\site-packages (from matplotlib>=3.0.0->mlxtend) (1.4.8)\n",
      "Requirement already satisfied: packaging>=20.0 in c:\\users\\kabura\\anaconda3\\lib\\site-packages (from matplotlib>=3.0.0->mlxtend) (24.2)\n",
      "Requirement already satisfied: pillow>=8 in c:\\users\\kabura\\anaconda3\\lib\\site-packages (from matplotlib>=3.0.0->mlxtend) (11.1.0)\n",
      "Requirement already satisfied: pyparsing>=2.3.1 in c:\\users\\kabura\\anaconda3\\lib\\site-packages (from matplotlib>=3.0.0->mlxtend) (3.2.0)\n",
      "Requirement already satisfied: python-dateutil>=2.7 in c:\\users\\kabura\\anaconda3\\lib\\site-packages (from matplotlib>=3.0.0->mlxtend) (2.9.0.post0)\n",
      "Requirement already satisfied: pytz>=2020.1 in c:\\users\\kabura\\anaconda3\\lib\\site-packages (from pandas>=0.24.2->mlxtend) (2024.1)\n",
      "Requirement already satisfied: tzdata>=2022.7 in c:\\users\\kabura\\anaconda3\\lib\\site-packages (from pandas>=0.24.2->mlxtend) (2025.2)\n",
      "Requirement already satisfied: six>=1.5 in c:\\users\\kabura\\anaconda3\\lib\\site-packages (from python-dateutil>=2.7->matplotlib>=3.0.0->mlxtend) (1.17.0)\n",
      "Requirement already satisfied: threadpoolctl>=3.1.0 in c:\\users\\kabura\\anaconda3\\lib\\site-packages (from scikit-learn>=1.3.1->mlxtend) (3.5.0)\n"
     ]
    }
   ],
   "source": [
    "!pip install mlxtend\n"
   ]
  },
  {
   "cell_type": "code",
   "execution_count": 8,
   "id": "db7df56a",
   "metadata": {},
   "outputs": [
    {
     "name": "stdout",
     "output_type": "stream",
     "text": [
      "--- Top 5 Association Rules (Sorted by Lift) ---\n",
      "  antecedents consequents  antecedent support  consequent support  support  \\\n",
      "4      (eggs)    (coffee)               0.350               0.375    0.250   \n",
      "3    (coffee)      (eggs)               0.375               0.350    0.250   \n",
      "0     (bread)      (soda)               0.400               0.350    0.200   \n",
      "1      (soda)     (bread)               0.350               0.400    0.200   \n",
      "5   (diapers)     (juice)               0.425               0.375    0.225   \n",
      "\n",
      "   confidence      lift  representativity  leverage  conviction  \\\n",
      "4    0.714286  1.904762               1.0  0.118750    2.187500   \n",
      "3    0.666667  1.904762               1.0  0.118750    1.950000   \n",
      "0    0.500000  1.428571               1.0  0.060000    1.300000   \n",
      "1    0.571429  1.428571               1.0  0.060000    1.400000   \n",
      "5    0.529412  1.411765               1.0  0.065625    1.328125   \n",
      "\n",
      "   zhangs_metric   jaccard  certainty  kulczynski  \n",
      "4       0.730769  0.526316   0.542857    0.690476  \n",
      "3       0.760000  0.526316   0.487179    0.690476  \n",
      "0       0.500000  0.363636   0.230769    0.535714  \n",
      "1       0.461538  0.363636   0.285714    0.535714  \n",
      "5       0.507246  0.391304   0.247059    0.564706  \n"
     ]
    }
   ],
   "source": [
    "import pandas as pd\n",
    "import numpy as np\n",
    "from mlxtend.frequent_patterns import apriori, association_rules\n",
    "from mlxtend.preprocessing import TransactionEncoder\n",
    "import random\n",
    "\n",
    "# Generate synthetic transactional data\n",
    "def generate_transactions(num_transactions=40, item_pool_size=20):\n",
    "    item_pool = ['milk', 'bread', 'beer', 'diapers', 'eggs', 'coffee', 'juice', 'cereal', 'yogurt', 'cheese', 'soda', 'chips', 'pasta', 'rice', 'apples', 'bananas', 'onions', 'carrots', 'chicken', 'beef']\n",
    "    transactions = []\n",
    "    frequent_patterns = [\n",
    "        ['milk', 'bread'],\n",
    "        ['beer', 'diapers'],\n",
    "        ['eggs', 'coffee']\n",
    "    ]\n",
    "    \n",
    "    for i in range(num_transactions):\n",
    "        basket_size = np.random.randint(3, 9)\n",
    "        basket = random.sample(item_pool, basket_size)\n",
    "        \n",
    "        if np.random.rand() > 0.5:\n",
    "            pattern = frequent_patterns[np.random.randint(0, len(frequent_patterns))]\n",
    "            basket.extend([item for item in pattern if item not in basket])\n",
    "        \n",
    "        transactions.append(basket)\n",
    "    return transactions\n",
    "\n",
    "# Generate the transactions\n",
    "transactions = generate_transactions()\n",
    "\n",
    "# Convert transactions to a one-hot encoded DataFrame for Apriori\n",
    "te = TransactionEncoder()\n",
    "te_ary = te.fit(transactions).transform(transactions)\n",
    "df_transactions = pd.DataFrame(te_ary, columns=te.columns_)\n",
    "\n",
    "# Apply the Apriori algorithm\n",
    "frequent_itemsets = apriori(df_transactions, min_support=0.2, use_colnames=True)\n",
    "\n",
    "# Generate and sort association rules (Corrected)\n",
    "# Use 'min_threshold' instead of 'min_confidence'\n",
    "rules = association_rules(frequent_itemsets, metric=\"confidence\", min_threshold=0.5)\n",
    "rules = rules.sort_values(by='lift', ascending=False)\n",
    "\n",
    "# Display the top 5 rules\n",
    "print(\"--- Top 5 Association Rules (Sorted by Lift) ---\")\n",
    "print(rules.head(5))"
   ]
  }
 ],
 "metadata": {
  "kernelspec": {
   "display_name": "base",
   "language": "python",
   "name": "python3"
  },
  "language_info": {
   "codemirror_mode": {
    "name": "ipython",
    "version": 3
   },
   "file_extension": ".py",
   "mimetype": "text/x-python",
   "name": "python",
   "nbconvert_exporter": "python",
   "pygments_lexer": "ipython3",
   "version": "3.13.5"
  }
 },
 "nbformat": 4,
 "nbformat_minor": 5
}
